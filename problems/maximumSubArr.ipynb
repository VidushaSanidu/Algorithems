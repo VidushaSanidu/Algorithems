{
 "cells": [
  {
   "cell_type": "code",
   "execution_count": null,
   "metadata": {},
   "outputs": [],
   "source": [
    "def maxCrossingSum(arr,low,mid,high):\n",
    "    leftSum=-1000000\n",
    "    rightSum=-1000000\n",
    "    sum=0\n",
    "    for i in range(mid,low-1,-1):\n",
    "        sum+=arr[i]\n",
    "        if sum>leftSum:\n",
    "            leftSum=sum\n",
    "        sum=0\n",
    "    for i in range(mid+1,high+1):\n",
    "        sum+=arr[i]\n",
    "        if sum>rightSum:\n",
    "            rightSum=sum\n",
    "    return leftSum+rightSum\n",
    "\n",
    "def maxSubarraySum(arr,low,high):\n",
    "    if low==high:\n",
    "        return arr[low]\n",
    "    mid=(low+high)//2\n",
    "    Left_MSS=maxSubarraySum(arr,low,mid)\n",
    "    Right_MSS=maxSubarraySum(arr,mid+1,high)\n",
    "    Crossing_Sum=maxCrossingSum(arr,low,mid,high)\n",
    "    return max(Left_MSS, Right_MSS, Crossing_Sum)"
   ]
  }
 ],
 "metadata": {
  "language_info": {
   "name": "python"
  }
 },
 "nbformat": 4,
 "nbformat_minor": 2
}
