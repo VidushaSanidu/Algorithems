{
 "cells": [
  {
   "cell_type": "markdown",
   "metadata": {},
   "source": [
    "Bubble Sort"
   ]
  },
  {
   "cell_type": "code",
   "execution_count": 9,
   "metadata": {},
   "outputs": [],
   "source": [
    "def bubbleSort(array):\n",
    "    length = len(array)\n",
    "    for i in range(length - 1):\n",
    "        swapped = False\n",
    "        for j in range(length - 1 - i):\n",
    "            if array[j] > array[j+1]:\n",
    "                swapped = True\n",
    "                array[j],array[j+1] = array[j+1],array[j]\n",
    "        if not swapped :\n",
    "            return\n"
   ]
  },
  {
   "cell_type": "markdown",
   "metadata": {},
   "source": [
    "Insert Sort"
   ]
  },
  {
   "cell_type": "code",
   "execution_count": 10,
   "metadata": {},
   "outputs": [],
   "source": [
    "def InsertionSort(array):\n",
    "    length = len(array)\n",
    "    for i in range(1,length):\n",
    "        key = array[i]\n",
    "        j = i-1\n",
    "        while j >= 0 and key < array[j]:\n",
    "            array[j+1] = array[j]\n",
    "            j -= 1\n",
    "        array[j+1] = key"
   ]
  },
  {
   "cell_type": "markdown",
   "metadata": {},
   "source": [
    "Selection Sort"
   ]
  },
  {
   "cell_type": "code",
   "execution_count": null,
   "metadata": {},
   "outputs": [],
   "source": [
    "def SelectionSort(array):\n",
    "    length = len(array)\n",
    "    for i in range(length-1):\n",
    "        minIndex = i\n",
    "        for j in range(i+1, length):\n",
    "            if array[minIndex] > array[j]:\n",
    "                minIndex = j\n",
    "        array[i], array[minIndex] = array[minIndex],array[i] "
   ]
  },
  {
   "cell_type": "markdown",
   "metadata": {},
   "source": [
    "Heap Sort"
   ]
  },
  {
   "cell_type": "code",
   "execution_count": null,
   "metadata": {},
   "outputs": [],
   "source": [
    "def heapify(array,n,i):\n",
    "    large = i\n",
    "    left = 2*i + 1\n",
    "    right = 2*i + 2\n",
    "    \n",
    "    if left < n and array[left] > array[i]:\n",
    "        large = left\n",
    "    if right < n and array[right] > array[large]:\n",
    "        large = right\n",
    "    if large != i:\n",
    "        array[large],array[i] = array[i],array[large]\n",
    "        heapify(array,n,large)\n",
    "\n",
    "def heapSort(array):\n",
    "    n = len(array)\n",
    "\n",
    "    for i in range(n//2,-1,-1):\n",
    "        heapify(array,n,i)\n",
    "    \n",
    "    for i in range(n-1,0,-1):\n",
    "        array[i],array[0] = array[0],array[i]\n",
    "        heapify(array,i,0)"
   ]
  }
 ],
 "metadata": {
  "kernelspec": {
   "display_name": "Python 3",
   "language": "python",
   "name": "python3"
  },
  "language_info": {
   "codemirror_mode": {
    "name": "ipython",
    "version": 3
   },
   "file_extension": ".py",
   "mimetype": "text/x-python",
   "name": "python",
   "nbconvert_exporter": "python",
   "pygments_lexer": "ipython3",
   "version": "3.12.1"
  }
 },
 "nbformat": 4,
 "nbformat_minor": 2
}
