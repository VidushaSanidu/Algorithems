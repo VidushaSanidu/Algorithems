{
 "cells": [
  {
   "cell_type": "markdown",
   "metadata": {},
   "source": [
    "Bubble Sort"
   ]
  },
  {
   "cell_type": "code",
   "execution_count": 9,
   "metadata": {},
   "outputs": [],
   "source": [
    "def bubbleSort(array):\n",
    "    length = len(array)\n",
    "    for i in range(length - 1):\n",
    "        swapped = False\n",
    "        for j in range(length - 1 - i):\n",
    "            if array[j] > array[j+1]:\n",
    "                swapped = True\n",
    "                array[j],array[j+1] = array[j+1],array[j]\n",
    "        if not swapped :\n",
    "            return\n"
   ]
  },
  {
   "cell_type": "markdown",
   "metadata": {},
   "source": [
    "Insert Sort"
   ]
  },
  {
   "cell_type": "code",
   "execution_count": 10,
   "metadata": {},
   "outputs": [],
   "source": [
    "def InsertionSort(array):\n",
    "    length = len(array)\n",
    "    for i in range(1,length):\n",
    "        key = array[i]\n",
    "        j = i-1\n",
    "        while j >= 0 and key < array[j]:\n",
    "            array[j+1] = array[j]\n",
    "            j -= 1\n",
    "        array[j+1] = key"
   ]
  },
  {
   "cell_type": "markdown",
   "metadata": {},
   "source": [
    "Selection Sort"
   ]
  },
  {
   "cell_type": "code",
   "execution_count": null,
   "metadata": {},
   "outputs": [],
   "source": [
    "def SelectionSort(array):\n",
    "    length = len(array)\n",
    "    for i in range(length-1):\n",
    "        minIndex = i\n",
    "        for j in range(i+1, length):\n",
    "            if array[minIndex] > array[j]:\n",
    "                minIndex = j\n",
    "        array[i], array[minIndex] = array[minIndex],array[i] "
   ]
  },
  {
   "cell_type": "markdown",
   "metadata": {},
   "source": [
    "Heap Sort"
   ]
  },
  {
   "cell_type": "code",
   "execution_count": null,
   "metadata": {},
   "outputs": [],
   "source": [
    "def heapify(array,n,i):\n",
    "    large = i\n",
    "    left = 2*i + 1\n",
    "    right = 2*i + 2\n",
    "    \n",
    "    if left < n and array[left] > array[i]:\n",
    "        large = left\n",
    "    if right < n and array[right] > array[large]:\n",
    "        large = right\n",
    "    if large != i:\n",
    "        array[large],array[i] = array[i],array[large]\n",
    "        heapify(array,n,large)\n",
    "\n",
    "def heapSort(array):\n",
    "    n = len(array)\n",
    "\n",
    "    for i in range(n//2,-1,-1):\n",
    "        heapify(array,n,i)\n",
    "    \n",
    "    for i in range(n-1,0,-1):\n",
    "        array[i],array[0] = array[0],array[i]\n",
    "        heapify(array,i,0)"
   ]
  },
  {
   "cell_type": "markdown",
   "metadata": {},
   "source": [
    "Merge Sort"
   ]
  },
  {
   "cell_type": "code",
   "execution_count": 4,
   "metadata": {},
   "outputs": [],
   "source": [
    "def MergeSort(array):\n",
    "    if len(array) > 1:\n",
    "        mid = len(array)//2\n",
    "        L = array[:mid]\n",
    "        R = array[mid:]\n",
    "\n",
    "        MergeSort(L)\n",
    "        MergeSort(R)\n",
    "    \n",
    "    i,j,k = 0\n",
    "    while i < len(L) and j < len(R):\n",
    "        if L[i] < R[j]:\n",
    "            array[k] = L[i]\n",
    "            i+= 1\n",
    "        else:\n",
    "            array[k] = R[j]\n",
    "            j+= 1\n",
    "        k += 1\n",
    "    \n",
    "    while i < len(L):\n",
    "        array[k] = L[i]\n",
    "        i+= 1\n",
    "        k+= 1\n",
    "    while j < len(R):\n",
    "        array[k] = R[j]\n",
    "        j+= 1\n",
    "        k+= 1\n"
   ]
  },
  {
   "cell_type": "markdown",
   "metadata": {},
   "source": [
    "Quick Sort"
   ]
  },
  {
   "cell_type": "code",
   "execution_count": null,
   "metadata": {},
   "outputs": [],
   "source": [
    "def partition(arr,L,R):\n",
    "    P = arr[R]\n",
    "    i = L-1\n",
    "    for j in range(L,R):\n",
    "        if arr[j] < P:\n",
    "            i+= 1\n",
    "            arr[i], arr[j] = arr[j], arr[i]\n",
    "    arr[i+1], arr[R] = arr[R], arr[i+1]\n",
    "    return i+ 1\n",
    "\n",
    "def quickSort(arr,L,R):\n",
    "    if L < R:\n",
    "        q = partition(arr,L,R)\n",
    "        quickSort(arr,L,q-1)\n",
    "        quickSort(arr,q+1,R)"
   ]
  },
  {
   "cell_type": "markdown",
   "metadata": {},
   "source": [
    "Counting Sort"
   ]
  },
  {
   "cell_type": "code",
   "execution_count": null,
   "metadata": {},
   "outputs": [],
   "source": [
    "def countingSort(arr):\n",
    "    size = len(arr)\n",
    "    maxVal = max(arr)\n",
    "    minVal = min(arr)\n",
    "    rangeV = maxVal - minVal + 1\n",
    "\n",
    "    sortedArr = [0] * size\n",
    "    countingArr = [0] * rangeV\n",
    "\n",
    "    for num in arr:\n",
    "        countingArr[num - minVal] += 1\n",
    "\n",
    "    for i in range(1,len(countingArr)):\n",
    "        countingArr[i] += countingArr[i-1]\n",
    "    \n",
    "    for num in reversed(arr):\n",
    "        sortedArr[countingArr[num- minVal] - 1] = num\n",
    "        countingArr[num - minVal] -= 1\n",
    "    \n",
    "    return sortedArr\n",
    "\n"
   ]
  },
  {
   "cell_type": "markdown",
   "metadata": {},
   "source": [
    "Radix Sort"
   ]
  },
  {
   "cell_type": "code",
   "execution_count": null,
   "metadata": {},
   "outputs": [],
   "source": [
    "def countingSort_r10(arr, exp):\n",
    "    n = len(arr)\n",
    "    output = [0] * n\n",
    "    count = [0] * 10\n",
    "    \n",
    "    for i in range(n):\n",
    "        index = arr[i] // exp\n",
    "        count[index % 10] += 1\n",
    "    \n",
    "    for i in range(1, 10):\n",
    "        count[i] += count[i - 1]\n",
    "    \n",
    "    i = n - 1\n",
    "    while i >= 0:\n",
    "        index = arr[i] // exp\n",
    "        output[count[index % 10] - 1] = arr[i]\n",
    "        count[index % 10] -= 1\n",
    "        i -= 1\n",
    "    \n",
    "    for i in range(n):\n",
    "        arr[i] = output[i]\n",
    "\n",
    "def radixSort(arr):\n",
    "    max1 = max(arr)\n",
    "\n",
    "    exp = 1\n",
    "    while max1 // exp > 0:\n",
    "        countingSort_r10(arr, exp)\n",
    "        exp *= 10"
   ]
  },
  {
   "cell_type": "markdown",
   "metadata": {},
   "source": [
    "Bucket Sort"
   ]
  },
  {
   "cell_type": "code",
   "execution_count": null,
   "metadata": {},
   "outputs": [],
   "source": [
    "def bucketSort(arr):\n",
    "    if len(arr) == 0:\n",
    "        return arr\n",
    "\n",
    "    # Determine the number of buckets\n",
    "    num_buckets = len(arr)\n",
    "    \n",
    "    # Create empty buckets\n",
    "    buckets = [[] for _ in range(num_buckets)]\n",
    "    \n",
    "    # Find the range of the input data\n",
    "    max_value = max(arr)\n",
    "    min_value = min(arr)\n",
    "    range_value = (max_value - min_value) / num_buckets\n",
    "    \n",
    "    # Distribute elements into buckets\n",
    "    for i in range(len(arr)):\n",
    "        index = int((arr[i] - min_value) / range_value)\n",
    "        if index == num_buckets:  # Handle the edge case where element is the maximum value\n",
    "            index -= 1\n",
    "        buckets[index].append(arr[i])\n",
    "    \n",
    "    # Sort each bucket using insertion sort\n",
    "    for i in range(num_buckets):\n",
    "        InsertionSort(buckets[i])\n",
    "    \n",
    "    # Concatenate the sorted buckets\n",
    "    sorted_array = []\n",
    "    for i in range(num_buckets):\n",
    "        sorted_array.extend(buckets[i])\n",
    "    \n",
    "    return sorted_array"
   ]
  }
 ],
 "metadata": {
  "kernelspec": {
   "display_name": "Python 3",
   "language": "python",
   "name": "python3"
  },
  "language_info": {
   "codemirror_mode": {
    "name": "ipython",
    "version": 3
   },
   "file_extension": ".py",
   "mimetype": "text/x-python",
   "name": "python",
   "nbconvert_exporter": "python",
   "pygments_lexer": "ipython3",
   "version": "3.12.1"
  }
 },
 "nbformat": 4,
 "nbformat_minor": 2
}
